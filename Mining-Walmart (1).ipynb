{
 "cells": [
  {
   "cell_type": "code",
   "execution_count": 48,
   "id": "6aaf173d",
   "metadata": {},
   "outputs": [],
   "source": [
    "\n",
    "import pandas as pd\n",
    "import numpy as np\n",
    "from sklearn import metrics\n",
    "%matplotlib inline\n",
    "import matplotlib.pyplot as plt"
   ]
  },
  {
   "cell_type": "code",
   "execution_count": 49,
   "id": "e0272253",
   "metadata": {
    "scrolled": true
   },
   "outputs": [
    {
     "name": "stdout",
     "output_type": "stream",
     "text": [
      "         Date      Open      High       Low     Close  Adj Close   Volume\n",
      "0  25-08-1972  0.063477  0.064697       NaN  0.064453   0.036447  2508800\n",
      "1  28-08-1972  0.064453  0.064941       NaN  0.064209   0.036309   972800\n",
      "2  29-08-1972  0.063965  0.063965  0.063477  0.063477   0.035895  1945600\n",
      "3  30-08-1972  0.063477  0.063477  0.062988  0.063477   0.035895   409600\n",
      "4  31-08-1972  0.062988  0.062988  0.062500  0.062500   0.035343   870400\n"
     ]
    }
   ],
   "source": [
    "ds = pd.read_csv('WMT.csv')\n",
    "print(ds.head())"
   ]
  },
  {
   "cell_type": "code",
   "execution_count": 50,
   "id": "f64ff283",
   "metadata": {},
   "outputs": [
    {
     "name": "stdout",
     "output_type": "stream",
     "text": [
      "       Open      High       Low     Close   Volume\n",
      "0  0.063477  0.064697       NaN  0.064453  2508800\n",
      "1  0.064453  0.064941       NaN  0.064209   972800\n",
      "2  0.063965  0.063965  0.063477  0.063477  1945600\n",
      "3  0.063477  0.063477  0.062988  0.063477   409600\n",
      "4  0.062988  0.062988  0.062500  0.062500   870400\n"
     ]
    }
   ],
   "source": [
    "ds.drop('Adj Close',axis=1,inplace=True)\n",
    "ds.drop('Date',axis=1,inplace=True)\n",
    "print(ds.head())"
   ]
  },
  {
   "cell_type": "code",
   "execution_count": 51,
   "id": "2bde6dbc",
   "metadata": {},
   "outputs": [
    {
     "data": {
      "text/plain": [
       "Open      0\n",
       "High      0\n",
       "Low       2\n",
       "Close     0\n",
       "Volume    0\n",
       "dtype: int64"
      ]
     },
     "execution_count": 51,
     "metadata": {},
     "output_type": "execute_result"
    }
   ],
   "source": [
    "ds.isnull().sum()"
   ]
  },
  {
   "cell_type": "code",
   "execution_count": 52,
   "id": "b7b63173",
   "metadata": {},
   "outputs": [
    {
     "data": {
      "text/plain": [
       "Open      0\n",
       "High      0\n",
       "Low       2\n",
       "Close     0\n",
       "Volume    0\n",
       "dtype: int64"
      ]
     },
     "execution_count": 52,
     "metadata": {},
     "output_type": "execute_result"
    }
   ],
   "source": [
    "ds.isna().sum()"
   ]
  },
  {
   "cell_type": "code",
   "execution_count": 53,
   "id": "8e5a700c",
   "metadata": {},
   "outputs": [
    {
     "name": "stdout",
     "output_type": "stream",
     "text": [
      "       Open      High        Low     Close     Volume\n",
      "0  0.063477  0.064697  35.690486  0.064453  2508800.0\n",
      "1  0.064453  0.064941  35.690486  0.064209   972800.0\n",
      "2  0.063965  0.063965   0.063477  0.063477  1945600.0\n",
      "3  0.063477  0.063477   0.062988  0.063477   409600.0\n",
      "4  0.062988  0.062988   0.062500  0.062500   870400.0\n"
     ]
    },
    {
     "data": {
      "text/plain": [
       "Open      0\n",
       "High      0\n",
       "Low       0\n",
       "Close     0\n",
       "Volume    0\n",
       "dtype: int64"
      ]
     },
     "execution_count": 53,
     "metadata": {},
     "output_type": "execute_result"
    }
   ],
   "source": [
    "from sklearn.impute import SimpleImputer\n",
    "imputer = SimpleImputer(fill_value=np.nan, strategy='mean')\n",
    "X = imputer.fit_transform(ds)\n",
    "\n",
    "ds = pd.DataFrame(X, columns=ds.columns)\n",
    "print(ds.head())\n",
    "\n",
    "ds.isna().sum()"
   ]
  },
  {
   "cell_type": "code",
   "execution_count": 54,
   "id": "22955a32",
   "metadata": {},
   "outputs": [
    {
     "data": {
      "text/plain": [
       "<AxesSubplot:>"
      ]
     },
     "execution_count": 54,
     "metadata": {},
     "output_type": "execute_result"
    },
    {
     "data": {
      "image/png": "[encoded data removed]",
      "text/plain": [
       "<Figure size 1152x432 with 1 Axes>"
      ]
     },
     "metadata": {
      "needs_background": "light"
     },
     "output_type": "display_data"
    }
   ],
   "source": [
    "ds['Open'].plot(figsize=(16,6))"
   ]
  },
  {
   "cell_type": "code",
   "execution_count": 55,
   "id": "ab88f62d",
   "metadata": {},
   "outputs": [],
   "source": [
    "x=ds[['Open','High','Low','Volume']]\n",
    "y=ds['Close']"
   ]
  },
  {
   "cell_type": "code",
   "execution_count": 56,
   "id": "28d39d53",
   "metadata": {},
   "outputs": [
    {
     "name": "stdout",
     "output_type": "stream",
     "text": [
      "(3139, 4)\n",
      "(9414, 4)\n",
      "(9414,)\n",
      "(3139,)\n"
     ]
    }
   ],
   "source": [
    "from sklearn.model_selection import train_test_split\n",
    "x_train,x_test,y_train,y_test=train_test_split(x,y,random_state=0)\n",
    "print(x_test.shape)\n",
    "print(x_train.shape)\n",
    "print(y_train.shape)\n",
    "print(y_test.shape)"
   ]
  },
  {
   "cell_type": "code",
   "execution_count": 57,
   "id": "c7151721",
   "metadata": {},
   "outputs": [],
   "source": [
    "from sklearn.linear_model import LinearRegression\n",
    "from sklearn.metrics import confusion_matrix, accuracy_score\n",
    "regressor=LinearRegression()"
   ]
  },
  {
   "cell_type": "code",
   "execution_count": 58,
   "id": "fe895fcf",
   "metadata": {},
   "outputs": [
    {
     "data": {
      "text/plain": [
       "LinearRegression()"
      ]
     },
     "execution_count": 58,
     "metadata": {},
     "output_type": "execute_result"
    }
   ],
   "source": [
    "regressor.fit(x_train,y_train)"
   ]
  },
  {
   "cell_type": "code",
   "execution_count": 59,
   "id": "ac4138c5",
   "metadata": {},
   "outputs": [
    {
     "name": "stdout",
     "output_type": "stream",
     "text": [
      "[-2.36104254e-01  9.17355376e-01  3.14278303e-01 -1.07468481e-08]\n",
      "0.04229472637310039\n",
      "             Open        High         Low      Volume\n",
      "9257    50.669998   51.380001   49.950001  19648700.0\n",
      "7297    53.840000   53.849998   52.939999   8785400.0\n",
      "12242  134.740005  134.750000  132.820007   8357300.0\n",
      "5420    13.500000   13.687500   13.375000   5195800.0\n",
      "10719   84.629997   84.720001   83.519997   6808400.0\n",
      "...           ...         ...         ...         ...\n",
      "551      0.024902    0.024902    0.024414   2406400.0\n",
      "7587    54.500000   55.250000   54.000000   5999800.0\n",
      "11107   71.889999   72.320000   71.709999   9661200.0\n",
      "2648     0.742188    0.750000    0.734375   6912000.0\n",
      "2217     0.294922    0.298828    0.292969   2022400.0\n",
      "\n",
      "[3139 rows x 4 columns]\n",
      "0.9999196784407923\n",
      "           Actual   Predicted\n",
      "9257    50.459999   50.699653\n",
      "7297    53.349998   53.273505\n",
      "12242  133.429993  133.495875\n",
      "5420    13.500000   13.558823\n",
      "10719   83.570000   83.954495\n",
      "...           ...         ...\n",
      "551      0.024902    0.041071\n",
      "7587    54.750000   54.765047\n",
      "11107   71.830002   71.844970\n",
      "2648     0.738281    0.711593\n",
      "2217     0.296875    0.317133\n",
      "\n",
      "[3139 rows x 2 columns]\n"
     ]
    }
   ],
   "source": [
    "print(regressor.coef_)\n",
    "print(regressor.intercept_)\n",
    "\n",
    "predicted=regressor.predict(x_test)\n",
    "print(x_test)\n",
    "\n",
    "scoree = regressor.score(x_test,y_test)\n",
    "\n",
    "print(scoree)\n",
    "\n",
    "dframe=pd.DataFrame(y_test,predicted)\n",
    "dfr=pd.DataFrame({'Actual':y_test,\"Predicted\":predicted})\n",
    "print(dfr)"
   ]
  },
  {
   "cell_type": "code",
   "execution_count": 60,
   "id": "8fb2ed09",
   "metadata": {},
   "outputs": [
    {
     "name": "stdout",
     "output_type": "stream",
     "text": [
      "Mean Absolute Error :  0.18611623297508587\n",
      "Mean Squared Error :  0.11194024026732219\n",
      "Root Mean Squared Error :  0.3345747155230386\n"
     ]
    }
   ],
   "source": [
    "from sklearn.metrics import confusion_matrix,accuracy_score\n",
    "regressor.score(x_test,y_test)\n",
    "\n",
    "import math\n",
    "print('Mean Absolute Error : ',metrics.mean_absolute_error(y_test,predicted))\n",
    "print('Mean Squared Error : ',metrics.mean_squared_error(y_test,predicted))\n",
    "print('Root Mean Squared Error : ',math.sqrt(metrics.mean_squared_error(y_test,predicted)))"
   ]
  },
  {
   "cell_type": "code",
   "execution_count": 61,
   "id": "fb5ac43c",
   "metadata": {},
   "outputs": [
    {
     "data": {
      "text/plain": [
       "<AxesSubplot:>"
      ]
     },
     "execution_count": 61,
     "metadata": {},
     "output_type": "execute_result"
    },
    {
     "data": {
      "image/png": "[encoded data removed]",
      "text/plain": [
       "<Figure size 432x288 with 1 Axes>"
      ]
     },
     "metadata": {
      "needs_background": "light"
     },
     "output_type": "display_data"
    }
   ],
   "source": [
    "graph=dfr.head(30)\n",
    "graph.plot(kind='bar')"
   ]
  },
  {
   "cell_type": "code",
   "execution_count": 62,
   "id": "b5f68bcb",
   "metadata": {},
   "outputs": [
    {
     "name": "stdout",
     "output_type": "stream",
     "text": [
      "Predicted stock price is :  122.29080089424525\n"
     ]
    }
   ],
   "source": [
    "open1=121.239998\n",
    "high=122.949898\n",
    "low=120.877403\n",
    "volume=6715558\n",
    "close=(-0.555904704*open1)+(0.818039776*high)+(0.737157283*low)-(0.00000000210762759*volume)+0.019275\n",
    "print(\"Predicted stock price is : \",close)"
   ]
  },
  {
   "cell_type": "code",
   "execution_count": null,
   "id": "acd1e633",
   "metadata": {},
   "outputs": [],
   "source": []
  },
  {
   "cell_type": "code",
   "execution_count": null,
   "id": "4e00fc7e",
   "metadata": {},
   "outputs": [],
   "source": []
  }
 ],
 "metadata": {
  "kernelspec": {
   "display_name": "Python 3 (ipykernel)",
   "language": "python",
   "name": "python3"
  },
  "language_info": {
   "codemirror_mode": {
    "name": "ipython",
    "version": 3
   },
   "file_extension": ".py",
   "mimetype": "text/x-python",
   "name": "python",
   "nbconvert_exporter": "python",
   "pygments_lexer": "ipython3",
   "version": "3.9.12"
  }
 },
 "nbformat": 4,
 "nbformat_minor": 5
}
